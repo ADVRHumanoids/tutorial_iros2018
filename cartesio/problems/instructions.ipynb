{
 "cells": [
  {
   "cell_type": "markdown",
   "metadata": {},
   "source": [
    "- CARTESI/O CONFIG FILE:\n",
    "========================\n",
    "Here we are going to compile a file to specify solver and control problem (Inverse Kinematics) for the CartesI/O framework.\n",
    "The data specified will be used to instantiate ```Tasks```, ```Constraints``` and ```Solver``` from OpenSoT as well as ```Interactive Markers``` and ROS services and topics."
   ]
  },
  {
   "cell_type": "markdown",
   "metadata": {},
   "source": [
    "Solver Options:\n",
    "----------------------\n",
    "The first thing to include are related to the back-end used by the front-end which is ```iHQP/LP```:\n",
    "```\n",
    "solver_options:\n",
    "    regularization: 1e-6\n",
    "    back_end: \"osqp\"\n",
    "```\n",
    "```regularization``` is a constant used for the solver regularization term, ```back_end``` specify the particular solver used, in our case ```osqp``` (you can try to use ```qpoases``` as well)."
   ]
  },
  {
   "cell_type": "markdown",
   "metadata": {},
   "source": [
    "IK Problem Specification:\n",
    "------------------------------------\n",
    "First we decide which tasks we want to solve and which priorities, for example:\n",
    "```\n",
    "stack:\n",
    "    - [\"LFoot\",\"RFoot\",\"Head\"]\n",
    "    - [\"CoMXY\",\"WaistYaw\"]\n",
    "    - [\"LArm\",\"RArm\"]\n",
    "    - [\"BP\"]\n",
    "```\n",
    "here we have at the first level: ```LFoot```,```RFoot``` and ```Head``` which are all at the same first priority. The first two are full 6DoFs Cartesian tasks while the latter in a postural task to move the joints of the head. At second priority there are ```CoMXY``` and ```WaistYaw```; in this case we are interested to control 2 Cartesian directions for the CoM task and only the Yaw rotation for the Waist. Third priority we have both arms, 6DoFs Cartesian tasks and finally, last priority a postural. \n",
    "For what concern constraints, we want to consider joint limits and joint velocity limits, this can be done as:\n",
    "```\n",
    "constraints: [\"JointLimits\", \"VelocityLimits\"]\n",
    "```\n",
    "in particular, these constraints will acts to all the levels of the stack."
   ]
  },
  {
   "cell_type": "code",
   "execution_count": null,
   "metadata": {},
   "outputs": [],
   "source": []
  }
 ],
 "metadata": {
  "kernelspec": {
   "display_name": "Python 2",
   "language": "python",
   "name": "python2"
  },
  "language_info": {
   "codemirror_mode": {
    "name": "ipython",
    "version": 2
   },
   "file_extension": ".py",
   "mimetype": "text/x-python",
   "name": "python",
   "nbconvert_exporter": "python",
   "pygments_lexer": "ipython2",
   "version": "2.7.12"
  }
 },
 "nbformat": 4,
 "nbformat_minor": 2
}
