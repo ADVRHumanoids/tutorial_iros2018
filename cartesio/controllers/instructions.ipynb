{
 "cells": [
  {
   "cell_type": "markdown",
   "metadata": {},
   "source": [
    "Implementing a CartesI/O controller\n",
    "======"
   ]
  },
  {
   "cell_type": "markdown",
   "metadata": {},
   "source": [
    "In this notebook we learn how to implement a Cartesian controller inside the *CartesI/O* framework. As an IK engine, we will use the *OpenSoT*-based `OpenSoT::IkProblem` class of the `tutorial_iros2018/opensot` notebook."
   ]
  },
  {
   "cell_type": "markdown",
   "metadata": {},
   "source": [
    "The advantage of doing so is the whole set of **auto-generated ROS tools** that can be used to customize the solver behavior from a remote process."
   ]
  },
  {
   "cell_type": "markdown",
   "metadata": {},
   "source": [
    "## Creating the class"
   ]
  },
  {
   "cell_type": "markdown",
   "metadata": {},
   "source": [
    "First, we create an header file (e.g. `SimpleIkController.h`). Inside such a file, we create a new class (e.g. `SimpleIk`) that **derives from XBot::Cartesian::CartesianInterfaceImpl**."
   ]
  },
  {
   "cell_type": "markdown",
   "metadata": {},
   "source": [
    "We need to **implement an `update()` method**, that actually solves the IK problem according to our formulation of choice. Its signature is \n",
    "```\n",
    "virtual bool update(double time, double period) override;\n",
    "```\n",
    "as it can be checked from the `cartesian_interface/CartesianInterfaceImpl.h` header file."
   ]
  },
  {
   "cell_type": "markdown",
   "metadata": {},
   "source": [
    "Optionally, a `setBaseLink(...)` can be overridden in order to enable run-time customization of the base-link of each defined task."
   ]
  },
  {
   "cell_type": "markdown",
   "metadata": {},
   "source": [
    "The base class *XBot::Cartesian::CartesianInterfaceImpl* is constructed using a *XBot::ModelInterface* object (that stores the IK solution state and provides the robot kinematics/dynamics) and a *ProblemDescription* object which describes the IK problem to be solved."
   ]
  },
  {
   "cell_type": "markdown",
   "metadata": {},
   "source": [
    "**NOTE:** Because our `OpenSoT::IkProblem` class solves an hard-coded IK problem, we only require the model in order to construct our `SimpleIk` class."
   ]
  },
  {
   "cell_type": "markdown",
   "metadata": {},
   "source": [
    "## Implementation\n",
    "### Constructor\n",
    "The base class constructor is called. Provided arguments are\n",
    " - the model \n",
    " - an hard-coded problem description object\n",
    " \n",
    "Finally, the `OpenSoT::IkProblem` class is created.\n",
    "\n",
    "### Update method\n",
    "- First, the **base class update** is called. \n",
    "- Then, current references are queried for each defined task (`getPoseReference()`), including the postural task (`getReferencePosture`). **NOTE:** the resulting references have been **automatically interpolated** by the base class, such that hard velocity/acceleration limits are satisfied.\n",
    "- The IK problem is updated and solved.\n",
    "- The solution is stored inside the model object."
   ]
  },
  {
   "cell_type": "markdown",
   "metadata": {},
   "source": [
    "Check the **provided reference implementation** `SimpleIkController.cpp` for details! In particolar, note that some code is required to make the solver \"discoverable\" by the CartesI/O framework. More specifically, we require methods to construct and destroy the solver, as follows:\n",
    "```\n",
    "extern \"C\" XBot::Cartesian::CartesianInterface* create_instance(XBot::ModelInterface::Ptr model,\n",
    "                                                                XBot::Cartesian::ProblemDescription pb)\n",
    "{\n",
    "    return new XBot::Cartesian::SimpleIk(model);\n",
    "}\n",
    "\n",
    "extern \"C\" void destroy_instance( XBot::Cartesian::CartesianInterface* instance )\n",
    "{\n",
    "    delete instance;\n",
    "}\n",
    "\n",
    "```"
   ]
  },
  {
   "cell_type": "code",
   "execution_count": null,
   "metadata": {},
   "outputs": [],
   "source": []
  }
 ],
 "metadata": {
  "kernelspec": {
   "display_name": "Python 3",
   "language": "python",
   "name": "python3"
  },
  "language_info": {
   "codemirror_mode": {
    "name": "ipython",
    "version": 3
   },
   "file_extension": ".py",
   "mimetype": "text/x-python",
   "name": "python",
   "nbconvert_exporter": "python",
   "pygments_lexer": "ipython3",
   "version": "3.5.2"
  }
 },
 "nbformat": 4,
 "nbformat_minor": 2
}
