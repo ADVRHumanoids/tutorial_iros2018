{
 "cells": [
  {
   "cell_type": "markdown",
   "metadata": {},
   "source": [
    "# Writing a configuration file for XBotCore\n",
    "\n",
    "In this notebook we will learn how to write a configuration file for the XBotCore framework. It will contain basic information that are used to \n",
    " - construct a kinematic/dynamics model\n",
    " - construct a robot interface, i.e. out high-level robot control API\n",
    " - configure the robot abstraction layer (R-HAL), i.e. "
   ]
  },
  {
   "cell_type": "markdown",
   "metadata": {},
   "source": [
    "## XBotCore"
   ]
  },
  {
   "cell_type": "markdown",
   "metadata": {},
   "source": [
    "This field contains the path (relative to `$XBOT_ROOT`) of the low-level HAL configuration file\n",
    "```yaml\n",
    "XBotCore:\n",
    "  config_path: \"external/tutorial_iros2018/configs/reemc/xbotcore/reemc_config.yaml\"\n",
    "```"
   ]
  },
  {
   "cell_type": "markdown",
   "metadata": {},
   "source": [
    "## XBotInterface\n",
    "This node contains the paths (relative to `$XBOT_ROOT`) of the robot description files, i.e. URDF, SRDF and joint ID map\n",
    "```yaml\n",
    "XBotInterface:\n",
    "  urdf_path: \"tutorial_iros2018/robots/reemc/reemc.urdf\"\n",
    "  srdf_path: \"tutorial_iros2018/robots/reemc/reemc.srdf\"\n",
    "  joint_map_path: \"tutorial_iros2018/configs/reemc/joint_id_map/reemc_joint_map.yaml\"\n",
    "```"
   ]
  },
  {
   "cell_type": "markdown",
   "metadata": {},
   "source": [
    "## RobotInterface\n",
    "This node contains the ID (literal name) of the framework to be used in order to communicate with the robot. Currently, we support ROS, YARP, XBotRT (for code that runs inside a RT plugin), OROCOS (for code that runs inside an Orocos component).\n",
    "```yaml\n",
    "RobotInterface:\n",
    "  framework_name: \"ROS\"\n",
    "```"
   ]
  },
  {
   "cell_type": "markdown",
   "metadata": {},
   "source": [
    "## ModelInterface\n",
    "This node contains the ID (literal name) of the library that the user wants to load for kinematics/dynamics. Available implementation are RBDL and iDynTree. Furthermore, the user can specify if a floating base formulation should be used.\n",
    "```yaml\n",
    "ModelInterface:\n",
    "  model_type: \"RBDL\"\n",
    "  is_model_floating_base: \"true\"\n",
    "```"
   ]
  },
  {
   "cell_type": "markdown",
   "metadata": {},
   "source": [
    "## Framework parameters\n",
    "### Master Communication Interface\n",
    "The ID of the framework from which references are taken. Indeed, we define a policy according to which only one framework can send commands to the robot.\n",
    "```yaml\n",
    "MasterCommunicationInterface:\n",
    "  framework_name: \"ROS\"\n",
    "```\n",
    "\n",
    "### XBot RT Plugins\n",
    "Names of RT plugins to be loaded by the Plugin Handler, and IO plugins to be loaded by the Communication Handler. Shared libraries are loaded according to the following policy:\n",
    "  - shared library name is `libPLUGIN_NAME.so`\n",
    "  - its path is listed in the `LD_LIBRARY_PATH` environment variable\n",
    "  \n",
    "```yaml\n",
    "XBotRTPlugins:\n",
    "  plugins: [\"HomingExample\", \"simpleIK\", \"GcompPlugin\"]\n",
    "  io_plugins: []\n",
    "```\n",
    "\n",
    "### NRT Plugins\n",
    "```yaml\n",
    "NRTPlugins:\n",
    "  plugins: [\"HomingExample\", \"simpleIK\", \"GcompPlugin\"]\n",
    "```"
   ]
  },
  {
   "cell_type": "code",
   "execution_count": null,
   "metadata": {},
   "outputs": [],
   "source": []
  }
 ],
 "metadata": {
  "kernelspec": {
   "display_name": "Python 3",
   "language": "python",
   "name": "python3"
  },
  "language_info": {
   "codemirror_mode": {
    "name": "ipython",
    "version": 3
   },
   "file_extension": ".py",
   "mimetype": "text/x-python",
   "name": "python",
   "nbconvert_exporter": "python",
   "pygments_lexer": "ipython3",
   "version": "3.5.2"
  }
 },
 "nbformat": 4,
 "nbformat_minor": 2
}
