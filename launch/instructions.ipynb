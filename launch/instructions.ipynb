{
 "cells": [
  {
   "cell_type": "markdown",
   "metadata": {},
   "source": [
    "- reemc_slider.launch\n",
    "================\n",
    "This launch file is used to visualize the reemc model in RVIZ and play in joint space.\n",
    "Just run:\n",
    "\n",
    "```roslaunch tutorial_iros2018 reemc_slider.launch```\n",
    "\n",
    "and in another terminal run\n",
    "\n",
    "```rviz -d reemc_slider.rviz```\n",
    "\n",
    "to correctly visualize the robot in rviz.\n"
   ]
  },
  {
   "cell_type": "code",
   "execution_count": null,
   "metadata": {},
   "outputs": [],
   "source": []
  }
 ],
 "metadata": {
  "kernelspec": {
   "display_name": "Python 2",
   "language": "python",
   "name": "python2"
  },
  "language_info": {
   "codemirror_mode": {
    "name": "ipython",
    "version": 2
   },
   "file_extension": ".py",
   "mimetype": "text/x-python",
   "name": "python",
   "nbconvert_exporter": "python",
   "pygments_lexer": "ipython2",
   "version": "2.7.12"
  }
 },
 "nbformat": 4,
 "nbformat_minor": 2
}
