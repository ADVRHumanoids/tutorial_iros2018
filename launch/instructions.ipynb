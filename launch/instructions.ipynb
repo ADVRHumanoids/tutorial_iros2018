{
 "cells": [
  {
   "cell_type": "markdown",
   "metadata": {},
   "source": [
    "reemc_slider.launch\n",
    "================\n",
    "This launch file is used to visualize the reemc model in RVIZ and play in joint space.\n",
    "Just run:\n",
    "\n",
    "```roslaunch tutorial_iros2018 reemc_slider.launch```\n",
    "\n",
    "and in another terminal run\n",
    "\n",
    "```rviz -d reemc_slider.rviz```\n",
    "\n",
    "to correctly visualize the robot in rviz.\n"
   ]
  },
  {
   "cell_type": "markdown",
   "metadata": {},
   "source": [
    "reemc_cartesian_controller.launch\n",
    "==============\n",
    "This launch file runs our Cartesian control framework *CartesI/O* for the Reem-C robot. Its main component is the *ROS Cartesian Server*, which loads and runs the solver, and also exposes its complete API to ROS. Moreover, a *Marker Spawner* node is also executed in order to provide easy reference generation through RviZ markers. Finally, a standard *joint_state_publisher* is useful to control a postural task, if present. \n",
    "\n",
    "The launch file provides several arguments to the user (have a look inside the file!); for this tutorial, we'll have a look to the `solver` option, which allows the user to select a specific Cartesian controller to execute.\n",
    "Available options are `solver:=OpenSot` (default choice) and `solver:=SimpleIk` (which runs a custom controller which is compiled as part of this tutorial).\n",
    "\n"
   ]
  },
  {
   "cell_type": "code",
   "execution_count": null,
   "metadata": {},
   "outputs": [],
   "source": []
  }
 ],
 "metadata": {
  "kernelspec": {
   "display_name": "Python 3",
   "language": "python",
   "name": "python3"
  },
  "language_info": {
   "codemirror_mode": {
    "name": "ipython",
    "version": 3
   },
   "file_extension": ".py",
   "mimetype": "text/x-python",
   "name": "python",
   "nbconvert_exporter": "python",
   "pygments_lexer": "ipython3",
   "version": "3.5.2"
  }
 },
 "nbformat": 4,
 "nbformat_minor": 2
}
