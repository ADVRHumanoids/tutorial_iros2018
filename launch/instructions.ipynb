{
 "cells": [
  {
   "cell_type": "markdown",
   "metadata": {},
   "source": [
    "- reemc_slider.launch\n",
    "================\n",
    "This launch file is used to visualize the reemc model in RVIZ and play in joint space.\n",
    "Just run:\n",
    "```roslaunch tutorial_iros2018 reemc_slider.launch```\n",
    "\n",
    "\n",
    "\n"
   ]
  },
  {
   "cell_type": "markdown",
   "metadata": {},
   "source": [
    "- reemc_cartesian_controller.launch\n",
    "==============\n",
    "This launch file runs our Cartesian control framework *CartesI/O*. Its main component is the *ROS Cartesian Server*, which both runs the solver and exposes its complete API to ROS."
   ]
  },
  {
   "cell_type": "code",
   "execution_count": null,
   "metadata": {},
   "outputs": [],
   "source": []
  }
 ],
 "metadata": {
  "kernelspec": {
   "display_name": "Python 3",
   "language": "python",
   "name": "python3"
  },
  "language_info": {
   "codemirror_mode": {
    "name": "ipython",
    "version": 3
   },
   "file_extension": ".py",
   "mimetype": "text/x-python",
   "name": "python",
   "nbconvert_exporter": "python",
   "pygments_lexer": "ipython3",
   "version": "3.5.2"
  }
 },
 "nbformat": 4,
 "nbformat_minor": 2
}
